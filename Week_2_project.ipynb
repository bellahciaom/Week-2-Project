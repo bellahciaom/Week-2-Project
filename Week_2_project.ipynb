{
  "nbformat": 4,
  "nbformat_minor": 0,
  "metadata": {
    "colab": {
      "provenance": []
    },
    "kernelspec": {
      "name": "python3",
      "display_name": "Python 3"
    },
    "language_info": {
      "name": "python"
    }
  },
  "cells": [
    {
      "cell_type": "code",
      "execution_count": 1,
      "metadata": {
        "colab": {
          "base_uri": "https://localhost:8080/"
        },
        "id": "4pRjOQrEh5Zn",
        "outputId": "3c6cac45-d672-49b3-a88c-df3a30000659"
      },
      "outputs": [
        {
          "output_type": "stream",
          "name": "stdout",
          "text": [
            "Collecting pymysql\n",
            "  Downloading PyMySQL-1.1.0-py3-none-any.whl (44 kB)\n",
            "\u001b[?25l     \u001b[90m━━━━━━━━━━━━━━━━━━━━━━━━━━━━━━━━━━━━━━━━\u001b[0m \u001b[32m0.0/44.8 kB\u001b[0m \u001b[31m?\u001b[0m eta \u001b[36m-:--:--\u001b[0m\r\u001b[2K     \u001b[91m━━━━━━━━━━━━━━━━━━━━━━━━━━━━━━━━━━━━\u001b[0m\u001b[91m╸\u001b[0m\u001b[90m━━━\u001b[0m \u001b[32m41.0/44.8 kB\u001b[0m \u001b[31m1.2 MB/s\u001b[0m eta \u001b[36m0:00:01\u001b[0m\r\u001b[2K     \u001b[90m━━━━━━━━━━━━━━━━━━━━━━━━━━━━━━━━━━━━━━━━\u001b[0m \u001b[32m44.8/44.8 kB\u001b[0m \u001b[31m967.5 kB/s\u001b[0m eta \u001b[36m0:00:00\u001b[0m\n",
            "\u001b[?25hInstalling collected packages: pymysql\n",
            "Successfully installed pymysql-1.1.0\n"
          ]
        }
      ],
      "source": [
        "!pip install pymysql;"
      ]
    },
    {
      "cell_type": "code",
      "source": [
        "%load_ext sql"
      ],
      "metadata": {
        "id": "ZFa-Ok3IiJ5r"
      },
      "execution_count": 2,
      "outputs": []
    },
    {
      "cell_type": "code",
      "source": [
        "%%sql sqlite:///stud_db;"
      ],
      "metadata": {
        "id": "igZsyljxicYj"
      },
      "execution_count": 3,
      "outputs": []
    },
    {
      "cell_type": "code",
      "source": [
        "%%sql\n",
        "CREATE TABLE personal_details (\n",
        "national_ID INTEGER(15) , stud_ID VARCHAR(15),stud_name VARCHAR(100),\n",
        "phone_number VARCHAR(15),age INTEGER, gender VARCHAR(10),\n",
        "PRIMARY KEY(national_ID) );\n",
        "\n",
        "INSERT INTO personal_details (national_ID,stud_ID,stud_name,phone_number,age,gender)\n",
        "VALUES(\"344534\",\"stud101\",\"Hermione Granger\" ,\"0712345678\",20,\"Male\"),\n",
        "(\"379683\",\"stud102\",\"Draco Malfo\" ,\"0723456781\",21,\"Female\"),\n",
        "(\"347403\",\"stud103\",\"Jayden Wamashati\" ,\"0734567812\",22,\"Male\"),\n",
        "(\"377302\",\"stud104\",\"Ron Weasley\" ,\"0745678123\",19,\"Female\"),\n",
        "(\"336741\",\"stud105\",\"Dolores Umbridge\" ,\"0756781234\",21,\"Male\"),\n",
        "(\"307243\",\"stud106\",\"Hedwig Tonks\" ,\"0767812345\",21,\"Female\"),\n",
        "(\"310932\",\"stud107\",\"Chao Chang\" ,\"0778123456\",22,\"Male\"),\n",
        "(\"343920\",\"stud108\",\"Curfew Yaeitpm\" ,\"0781234567\",20,\"Female\"),\n",
        "(\"345261\",\"stud109\",\"Chaptr Mukenya\" ,\"0722345678\",20,\"Male\"),\n",
        "(\"339152\",\"stud110\",\"Natalie Mpema\" ,\"0733456781\",21,\"Female\"),\n",
        "(\"339746\",\"stud111\",\"Crew Nundi\" ,\"0744567812\",20,\"Male\"),\n",
        "(\"336373\",\"stud112\",\"Bandi Kagunda\" ,\"0755678123\",22,\"Female\"),\n",
        "(\"325252\",\"stud113\",\"Testimony Omolo\" ,\"0766456781\",21,\"Male\"),\n",
        "(\"321746\",\"stud114\",\"Career Mpya\" ,\"0741367812\",20,\"Male\"),\n",
        "(\"390234\",\"stud115\",\"Deamon Anduro\" ,\"0744421123\",22,\"Female\");"
      ],
      "metadata": {
        "colab": {
          "base_uri": "https://localhost:8080/"
        },
        "id": "e66OzWO5ih8R",
        "outputId": "27a75d33-03b7-4ad2-9ad0-5a6252006452"
      },
      "execution_count": 4,
      "outputs": [
        {
          "output_type": "stream",
          "name": "stdout",
          "text": [
            " * sqlite:///stud_db;\n",
            "Done.\n",
            "15 rows affected.\n"
          ]
        },
        {
          "output_type": "execute_result",
          "data": {
            "text/plain": [
              "[]"
            ]
          },
          "metadata": {},
          "execution_count": 4
        }
      ]
    },
    {
      "cell_type": "code",
      "source": [
        "%%sql\n",
        "CREATE TABLE school_details(stud_ID VARCHAR(15), current_home_county VARCHAR(20),\n",
        "secondary_school_county VARCHAR(20), residence VARCHAR(15), stud_email VARCHAR(50),\n",
        "PRIMARY KEY (stud_ID)  );\n",
        "\n",
        "INSERT INTO school_details(stud_ID)\n",
        "SELECT stud_ID\n",
        "FROM personal_details;\n",
        "\n",
        "\n",
        "\n",
        "UPDATE school_details SET current_home_county=\"Nakuru\", secondary_school_county=\"Nairobi\", residence=\"In school\" WHERE stud_ID=\"stud101\";\n",
        "UPDATE school_details SET current_home_county=\"Nairobi\", secondary_school_county=\"Nakuru\", residence=\"In school\" WHERE stud_ID=\"stud102\";\n",
        "UPDATE school_details SET current_home_county=\"Samburu\", secondary_school_county=\"Nairobi\", residence=\"Out of school\" WHERE stud_ID=\"stud103\";\n",
        "UPDATE school_details SET current_home_county=\"Kericho\", secondary_school_county=\"Nairobi\", residence=\"In school\" WHERE stud_ID=\"stud104\";\n",
        "UPDATE school_details SET current_home_county=\"Nyamira\", secondary_school_county=\"Nakuru\", residence=\"In school\" WHERE stud_ID=\"stud105\";\n",
        "UPDATE school_details SET current_home_county=\"Kisumu\", secondary_school_county=\"Nairobi\", residence=\"Out of school\" WHERE stud_ID=\"stud106\";\n",
        "UPDATE school_details SET current_home_county=\"Nakuru\", secondary_school_county=\"Nairobi\", residence=\"Out of school\" WHERE stud_ID=\"stud107\";\n",
        "UPDATE school_details SET current_home_county=\"Kisumu\", secondary_school_county=\"Mombasa\", residence=\"Out of school\" WHERE stud_ID=\"stud108\";\n",
        "UPDATE school_details SET current_home_county=\"Kericho\", secondary_school_county=\"Mombasa\", residence=\"In school\" WHERE stud_ID=\"stud109\";\n",
        "UPDATE school_details SET current_home_county=\"Nakuru\", secondary_school_county=\"Mombasa\", residence=\"In school\" WHERE stud_ID=\"stud110\";\n",
        "UPDATE school_details SET current_home_county=\"Kiambu\", secondary_school_county=\"Turkana\", residence=\"In school\" WHERE stud_ID=\"stud111\";\n",
        "UPDATE school_details SET current_home_county=\"Nairobi\", secondary_school_county=\"Nakuru\", residence=\"In school\" WHERE stud_ID=\"stud112\";\n",
        "UPDATE school_details SET current_home_county=\"Samburu\", secondary_school_county=\"Taita Taveta\", residence=\"In school\" WHERE stud_ID=\"stud113\";\n",
        "UPDATE school_details SET current_home_county=\"Kericho\", secondary_school_county=\"Nairobi\", residence=\"Out of school\" WHERE stud_ID=\"stud114\";\n",
        "UPDATE school_details SET current_home_county=\"Kiambu\", secondary_school_county=\"Mombasa\", residence=\"In school\" WHERE stud_ID=\"stud115\";"
      ],
      "metadata": {
        "colab": {
          "base_uri": "https://localhost:8080/"
        },
        "id": "G2Ad8zMai4T9",
        "outputId": "0ff614b2-1e04-4a42-8262-8637a78f49db"
      },
      "execution_count": 5,
      "outputs": [
        {
          "output_type": "stream",
          "name": "stdout",
          "text": [
            " * sqlite:///stud_db;\n",
            "Done.\n",
            "15 rows affected.\n",
            "1 rows affected.\n",
            "1 rows affected.\n",
            "1 rows affected.\n",
            "1 rows affected.\n",
            "1 rows affected.\n",
            "1 rows affected.\n",
            "1 rows affected.\n",
            "1 rows affected.\n",
            "1 rows affected.\n",
            "1 rows affected.\n",
            "1 rows affected.\n",
            "1 rows affected.\n",
            "1 rows affected.\n",
            "1 rows affected.\n",
            "1 rows affected.\n"
          ]
        },
        {
          "output_type": "execute_result",
          "data": {
            "text/plain": [
              "[]"
            ]
          },
          "metadata": {},
          "execution_count": 5
        }
      ]
    },
    {
      "cell_type": "code",
      "source": [
        "%%sql\n",
        "UPDATE school_details SET stud_email='HG' WHERE stud_ID=\"stud101\";\n",
        "UPDATE school_details SET stud_email='DM' WHERE stud_ID=\"stud102\";\n",
        "UPDATE school_details SET stud_email='JW' WHERE stud_ID=\"stud103\";\n",
        "UPDATE school_details SET stud_email='RW' WHERE stud_ID=\"stud104\";\n",
        "UPDATE school_details SET stud_email='DU' WHERE stud_ID=\"stud105\";\n",
        "UPDATE school_details SET stud_email='HT' WHERE stud_ID=\"stud106\";\n",
        "UPDATE school_details SET stud_email='CC' WHERE stud_ID=\"stud107\";\n",
        "UPDATE school_details SET stud_email='CY' WHERE stud_ID=\"stud108\";\n",
        "UPDATE school_details SET stud_email='CM' WHERE stud_ID=\"stud109\";\n",
        "UPDATE school_details SET stud_email='NM' WHERE stud_ID=\"stud110\";\n",
        "UPDATE school_details SET stud_email='CN' WHERE stud_ID=\"stud111\";\n",
        "UPDATE school_details SET stud_email='BK' WHERE stud_ID=\"stud112\";\n",
        "UPDATE school_details SET stud_email='TO' WHERE stud_ID=\"stud113\";\n",
        "UPDATE school_details SET stud_email='CD' WHERE stud_ID=\"stud114\";\n",
        "UPDATE school_details SET stud_email='DA' WHERE stud_ID=\"stud115\";"
      ],
      "metadata": {
        "colab": {
          "base_uri": "https://localhost:8080/"
        },
        "id": "UNH8J3wDBHyr",
        "outputId": "82a485fe-ed41-4a3a-a049-7abaac11ab67"
      },
      "execution_count": 6,
      "outputs": [
        {
          "output_type": "stream",
          "name": "stdout",
          "text": [
            " * sqlite:///stud_db;\n",
            "1 rows affected.\n",
            "1 rows affected.\n",
            "1 rows affected.\n",
            "1 rows affected.\n",
            "1 rows affected.\n",
            "1 rows affected.\n",
            "1 rows affected.\n",
            "1 rows affected.\n",
            "1 rows affected.\n",
            "1 rows affected.\n",
            "1 rows affected.\n",
            "1 rows affected.\n",
            "1 rows affected.\n",
            "1 rows affected.\n",
            "1 rows affected.\n"
          ]
        },
        {
          "output_type": "execute_result",
          "data": {
            "text/plain": [
              "[]"
            ]
          },
          "metadata": {},
          "execution_count": 6
        }
      ]
    },
    {
      "cell_type": "code",
      "source": [
        "%%sql\n",
        "CREATE TABLE contact_details (stud_email VARCHAR(50) , phone_number VARCHAR(15), next_of_kin_name VARCHAR(50),next_of_kin_relation VARCHAR(10), next_of_kin_contacts VARCHAR(13) );\n",
        "INSERT INTO contact_details(stud_email,phone_number, next_of_kin_name,next_of_kin_relation,next_of_kin_contacts)\n",
        "VALUES\n",
        "('HG',\"0712345678\",\"Darius Young\",\"Father\",\"0782382383\"),\n",
        "('DM',\"0723456781\",\"Lucy Nderitu\",\"Mother\",\"0723238983\"),\n",
        "('JW',\"0734567812\",\"Jerotich Koech\",\"Mother\",\"0779343126\"),\n",
        "('RW',\"0745678123\",\"Mwaura Mwangi\",\"Father\",\"0798246347\"),\n",
        "('DU',\"0756781234\",\"Ian Patrick\",\"Father\",\"0711234453\"),\n",
        "('HT',\"0767812345\",\"Lebron James\",\"Father\",\"0765439233\"),\n",
        "('CC',\"0778123456\",\"Magna Carter\",\"Father\",\"0702526243\"),\n",
        "('CY',\"0781234567\",\"Cindy Wayne\",\"Mother\",\"0747282839\"),\n",
        "('CM',\"0722345678\",\"Farah Maalim\",\"Mother\",\"0753927482\"),\n",
        "('NM',\"0733456781\",\"Faiba Mbugua\",\"Father\",\"0713245748\"),\n",
        "('CN',\"0744567812\",\"John Doe\",\"Father\",\"0725737383\"),\n",
        "('BK',\"0755678123\",\"Klaus Michealson\",\"Father\",\"0789346276\"),\n",
        "('TO',\"0766456781\",\"Suluhu Amdany\",\"Mother\",\"0785739259\"),\n",
        "('CD',\"0741367812\",\"Daisy Auma\",\"Mother\",\"0791344537\"),\n",
        "('DA',\"0755421123\",\"Getrude Karen\",\"Mother\",\"0765748244\");\n",
        "\n",
        "\n"
      ],
      "metadata": {
        "colab": {
          "base_uri": "https://localhost:8080/"
        },
        "id": "T1giLX-1jMim",
        "outputId": "c0e3d816-774d-4fbb-b07b-89c95a7dbc7c"
      },
      "execution_count": 7,
      "outputs": [
        {
          "output_type": "stream",
          "name": "stdout",
          "text": [
            " * sqlite:///stud_db;\n",
            "Done.\n",
            "15 rows affected.\n"
          ]
        },
        {
          "output_type": "execute_result",
          "data": {
            "text/plain": [
              "[]"
            ]
          },
          "metadata": {},
          "execution_count": 7
        }
      ]
    },
    {
      "cell_type": "code",
      "source": [
        "%%sql\n",
        "CREATE TABLE financial_details (stud_ID VARCHAR(15) ,stud_name VARCHAR(50) ,\n",
        "sem_fee INTEGER(6) , fee_paid INTEGER(6),\n",
        "PRIMARY KEY(stud_ID) );\n",
        "\n",
        "INSERT INTO financial_details(stud_ID,stud_name)\n",
        "SELECT personal_details.stud_ID, personal_details.stud_name\n",
        "FROM personal_details;\n",
        "\n",
        "UPDATE financial_details SET sem_fee = 25000, fee_paid=25000 WHERE stud_ID = \"stud101\";\n",
        "UPDATE financial_details SET sem_fee= 25000, fee_paid=19000 WHERE stud_ID = \"stud102\";\n",
        "UPDATE financial_details SET sem_fee= 21900, fee_paid=20000 WHERE stud_ID = \"stud103\";\n",
        "UPDATE financial_details SET sem_fee= 22000, fee_paid=22000 WHERE stud_ID = \"stud104\";\n",
        "UPDATE financial_details SET sem_fee= 25000, fee_paid=23400 WHERE stud_ID = \"stud105\";\n",
        "UPDATE financial_details SET sem_fee= 25000, fee_paid=27000 WHERE stud_ID = \"stud106\";\n",
        "UPDATE financial_details SET sem_fee= 24230, fee_paid=21200 WHERE stud_ID = \"stud107\";\n",
        "UPDATE financial_details SET sem_fee= 25000, fee_paid=23500 WHERE stud_ID = \"stud108\";\n",
        "UPDATE financial_details SET sem_fee= 25000, fee_paid=24500 WHERE stud_ID = \"stud109\";\n",
        "UPDATE financial_details SET sem_fee= 25000, fee_paid=25000 WHERE stud_ID = \"stud110\";\n",
        "UPDATE financial_details SET sem_fee= 26000, fee_paid=26000 WHERE stud_ID = \"stud111\";\n",
        "UPDATE financial_details SET sem_fee= 25000, fee_paid=20900 WHERE stud_ID = \"stud112\";\n",
        "UPDATE financial_details SET sem_fee= 25000, fee_paid=22300 WHERE stud_ID = \"stud113\";\n",
        "UPDATE financial_details SET sem_fee= 19000, fee_paid=19000 WHERE stud_ID = \"stud114\";\n",
        "UPDATE financial_details SET sem_fee= 20800, fee_paid=20800 WHERE stud_ID = \"stud115\";"
      ],
      "metadata": {
        "colab": {
          "base_uri": "https://localhost:8080/"
        },
        "id": "cvF8Dcf-jjzO",
        "outputId": "df86fec3-b088-4cce-b59a-d24c3c266977"
      },
      "execution_count": 8,
      "outputs": [
        {
          "output_type": "stream",
          "name": "stdout",
          "text": [
            " * sqlite:///stud_db;\n",
            "Done.\n",
            "15 rows affected.\n",
            "1 rows affected.\n",
            "1 rows affected.\n",
            "1 rows affected.\n",
            "1 rows affected.\n",
            "1 rows affected.\n",
            "1 rows affected.\n",
            "1 rows affected.\n",
            "1 rows affected.\n",
            "1 rows affected.\n",
            "1 rows affected.\n",
            "1 rows affected.\n",
            "1 rows affected.\n",
            "1 rows affected.\n",
            "1 rows affected.\n",
            "1 rows affected.\n"
          ]
        },
        {
          "output_type": "execute_result",
          "data": {
            "text/plain": [
              "[]"
            ]
          },
          "metadata": {},
          "execution_count": 8
        }
      ]
    },
    {
      "cell_type": "code",
      "source": [
        "%%sql SELECT *\n",
        "FROM personal_details\n",
        "LIMIT 1;"
      ],
      "metadata": {
        "colab": {
          "base_uri": "https://localhost:8080/",
          "height": 96
        },
        "id": "ewjshnv_jwiX",
        "outputId": "912368b1-754f-418e-dcc8-9f361c82e3f4"
      },
      "execution_count": null,
      "outputs": [
        {
          "output_type": "stream",
          "name": "stdout",
          "text": [
            " * sqlite:///stud_db;\n",
            "Done.\n"
          ]
        },
        {
          "output_type": "execute_result",
          "data": {
            "text/plain": [
              "[(344534, 'stud101', 'Hermione Granger', '0712345678', 20, 'Male')]"
            ],
            "text/html": [
              "<table>\n",
              "    <thead>\n",
              "        <tr>\n",
              "            <th>national_ID</th>\n",
              "            <th>stud_ID</th>\n",
              "            <th>stud_name</th>\n",
              "            <th>phone_number</th>\n",
              "            <th>age</th>\n",
              "            <th>gender</th>\n",
              "        </tr>\n",
              "    </thead>\n",
              "    <tbody>\n",
              "        <tr>\n",
              "            <td>344534</td>\n",
              "            <td>stud101</td>\n",
              "            <td>Hermione Granger</td>\n",
              "            <td>0712345678</td>\n",
              "            <td>20</td>\n",
              "            <td>Male</td>\n",
              "        </tr>\n",
              "    </tbody>\n",
              "</table>"
            ]
          },
          "metadata": {},
          "execution_count": 24
        }
      ]
    },
    {
      "cell_type": "code",
      "source": [
        "%%sql SELECT *\n",
        "FROM contact_details\n",
        "LIMIT 1;"
      ],
      "metadata": {
        "colab": {
          "base_uri": "https://localhost:8080/",
          "height": 94
        },
        "id": "Vu1FVzqsj4sL",
        "outputId": "b2f03836-6ab4-45f9-b817-15f336bfb67b"
      },
      "execution_count": null,
      "outputs": [
        {
          "output_type": "stream",
          "name": "stdout",
          "text": [
            " * sqlite:///stud_db;\n",
            "Done.\n"
          ]
        },
        {
          "output_type": "execute_result",
          "data": {
            "text/plain": [
              "[('HG', '0712345678', 'Darius Young', 'Father', '0782382383')]"
            ],
            "text/html": [
              "<table>\n",
              "    <thead>\n",
              "        <tr>\n",
              "            <th>stud_email</th>\n",
              "            <th>phone_number</th>\n",
              "            <th>next_of_kin_name</th>\n",
              "            <th>next_of_kin_relation</th>\n",
              "            <th>next_of_kin_contacts</th>\n",
              "        </tr>\n",
              "    </thead>\n",
              "    <tbody>\n",
              "        <tr>\n",
              "            <td>HG</td>\n",
              "            <td>0712345678</td>\n",
              "            <td>Darius Young</td>\n",
              "            <td>Father</td>\n",
              "            <td>0782382383</td>\n",
              "        </tr>\n",
              "    </tbody>\n",
              "</table>"
            ]
          },
          "metadata": {},
          "execution_count": 18
        }
      ]
    },
    {
      "cell_type": "code",
      "source": [
        "%%sql SELECT *\n",
        "FROM financial_details"
      ],
      "metadata": {
        "colab": {
          "base_uri": "https://localhost:8080/",
          "height": 400
        },
        "id": "QcpkRwa6kAQh",
        "outputId": "70cf63f1-3e1a-4bac-d893-617b7c73ca9e"
      },
      "execution_count": null,
      "outputs": [
        {
          "output_type": "stream",
          "name": "stdout",
          "text": [
            " * sqlite:///stud_db;\n",
            "Done.\n"
          ]
        },
        {
          "output_type": "execute_result",
          "data": {
            "text/plain": [
              "[('stud101', 'Hermione Granger', 25000, 25000),\n",
              " ('stud102', 'Draco Malfo', 25000, 19000),\n",
              " ('stud103', 'Jayden Wamashati', 21900, 20000),\n",
              " ('stud104', 'Ron Weasley', 22000, 22000),\n",
              " ('stud105', 'Dolores Umbridge', 25000, 23400),\n",
              " ('stud106', 'Hedwig Tonks', 25000, 27000),\n",
              " ('stud107', 'Chao Chang', 24230, 21200),\n",
              " ('stud108', 'Curfew Yaeitpm', 25000, 23500),\n",
              " ('stud109', 'Chaptr Mukenya', 25000, 24500),\n",
              " ('stud110', 'Natalie Mpema', 25000, 25000),\n",
              " ('stud111', 'Crew Nundi', 26000, 26000),\n",
              " ('stud112', 'Bandi Kagunda', 25000, 20900),\n",
              " ('stud113', 'Testimony Omolo', 25000, 22300),\n",
              " ('stud114', 'Career Mpya', 19000, 19000),\n",
              " ('stud115', 'Deamon Anduro', 20800, 20800),\n",
              " (None, 'Bella Ciao', None, None)]"
            ],
            "text/html": [
              "<table>\n",
              "    <thead>\n",
              "        <tr>\n",
              "            <th>stud_ID</th>\n",
              "            <th>stud_name</th>\n",
              "            <th>sem_fee</th>\n",
              "            <th>fee_paid</th>\n",
              "        </tr>\n",
              "    </thead>\n",
              "    <tbody>\n",
              "        <tr>\n",
              "            <td>stud101</td>\n",
              "            <td>Hermione Granger</td>\n",
              "            <td>25000</td>\n",
              "            <td>25000</td>\n",
              "        </tr>\n",
              "        <tr>\n",
              "            <td>stud102</td>\n",
              "            <td>Draco Malfo</td>\n",
              "            <td>25000</td>\n",
              "            <td>19000</td>\n",
              "        </tr>\n",
              "        <tr>\n",
              "            <td>stud103</td>\n",
              "            <td>Jayden Wamashati</td>\n",
              "            <td>21900</td>\n",
              "            <td>20000</td>\n",
              "        </tr>\n",
              "        <tr>\n",
              "            <td>stud104</td>\n",
              "            <td>Ron Weasley</td>\n",
              "            <td>22000</td>\n",
              "            <td>22000</td>\n",
              "        </tr>\n",
              "        <tr>\n",
              "            <td>stud105</td>\n",
              "            <td>Dolores Umbridge</td>\n",
              "            <td>25000</td>\n",
              "            <td>23400</td>\n",
              "        </tr>\n",
              "        <tr>\n",
              "            <td>stud106</td>\n",
              "            <td>Hedwig Tonks</td>\n",
              "            <td>25000</td>\n",
              "            <td>27000</td>\n",
              "        </tr>\n",
              "        <tr>\n",
              "            <td>stud107</td>\n",
              "            <td>Chao Chang</td>\n",
              "            <td>24230</td>\n",
              "            <td>21200</td>\n",
              "        </tr>\n",
              "        <tr>\n",
              "            <td>stud108</td>\n",
              "            <td>Curfew Yaeitpm</td>\n",
              "            <td>25000</td>\n",
              "            <td>23500</td>\n",
              "        </tr>\n",
              "        <tr>\n",
              "            <td>stud109</td>\n",
              "            <td>Chaptr Mukenya</td>\n",
              "            <td>25000</td>\n",
              "            <td>24500</td>\n",
              "        </tr>\n",
              "        <tr>\n",
              "            <td>stud110</td>\n",
              "            <td>Natalie Mpema</td>\n",
              "            <td>25000</td>\n",
              "            <td>25000</td>\n",
              "        </tr>\n",
              "        <tr>\n",
              "            <td>stud111</td>\n",
              "            <td>Crew Nundi</td>\n",
              "            <td>26000</td>\n",
              "            <td>26000</td>\n",
              "        </tr>\n",
              "        <tr>\n",
              "            <td>stud112</td>\n",
              "            <td>Bandi Kagunda</td>\n",
              "            <td>25000</td>\n",
              "            <td>20900</td>\n",
              "        </tr>\n",
              "        <tr>\n",
              "            <td>stud113</td>\n",
              "            <td>Testimony Omolo</td>\n",
              "            <td>25000</td>\n",
              "            <td>22300</td>\n",
              "        </tr>\n",
              "        <tr>\n",
              "            <td>stud114</td>\n",
              "            <td>Career Mpya</td>\n",
              "            <td>19000</td>\n",
              "            <td>19000</td>\n",
              "        </tr>\n",
              "        <tr>\n",
              "            <td>stud115</td>\n",
              "            <td>Deamon Anduro</td>\n",
              "            <td>20800</td>\n",
              "            <td>20800</td>\n",
              "        </tr>\n",
              "        <tr>\n",
              "            <td>None</td>\n",
              "            <td>Bella Ciao</td>\n",
              "            <td>None</td>\n",
              "            <td>None</td>\n",
              "        </tr>\n",
              "    </tbody>\n",
              "</table>"
            ]
          },
          "metadata": {},
          "execution_count": 30
        }
      ]
    },
    {
      "cell_type": "code",
      "source": [
        "%%sql SELECT *\n",
        "FROM school_details\n",
        "limit 1;"
      ],
      "metadata": {
        "colab": {
          "base_uri": "https://localhost:8080/",
          "height": 94
        },
        "id": "G_LrI0QSkEQM",
        "outputId": "b843b364-e15c-40cb-e824-c445b9535e79"
      },
      "execution_count": null,
      "outputs": [
        {
          "output_type": "stream",
          "name": "stdout",
          "text": [
            " * sqlite:///stud_db;\n",
            "Done.\n"
          ]
        },
        {
          "output_type": "execute_result",
          "data": {
            "text/plain": [
              "[('stud101', 'Nakuru', 'Nairobi', 'In school', 'HG')]"
            ],
            "text/html": [
              "<table>\n",
              "    <thead>\n",
              "        <tr>\n",
              "            <th>stud_ID</th>\n",
              "            <th>current_home_county</th>\n",
              "            <th>secondary_school_county</th>\n",
              "            <th>residence</th>\n",
              "            <th>stud_email</th>\n",
              "        </tr>\n",
              "    </thead>\n",
              "    <tbody>\n",
              "        <tr>\n",
              "            <td>stud101</td>\n",
              "            <td>Nakuru</td>\n",
              "            <td>Nairobi</td>\n",
              "            <td>In school</td>\n",
              "            <td>HG</td>\n",
              "        </tr>\n",
              "    </tbody>\n",
              "</table>"
            ]
          },
          "metadata": {},
          "execution_count": 13
        }
      ]
    },
    {
      "cell_type": "markdown",
      "source": [
        "Using JOIN get the student names, school id, email, phone number (new_stud_details)"
      ],
      "metadata": {
        "id": "iOF1IdHuuWLV"
      }
    },
    {
      "cell_type": "code",
      "source": [
        "%%sql SELECT stud_name, pd.stud_ID, phone_number, stud_email\n",
        "FROM personal_details as pd\n",
        "JOIN school_details as sd ON pd.stud_ID = sd.stud_ID"
      ],
      "metadata": {
        "colab": {
          "base_uri": "https://localhost:8080/",
          "height": 379
        },
        "id": "7C0CszrCubuV",
        "outputId": "e472c595-5055-4721-aabe-0ff91b7fd8f9"
      },
      "execution_count": 65,
      "outputs": [
        {
          "output_type": "stream",
          "name": "stdout",
          "text": [
            " * sqlite:///stud_db;\n",
            "Done.\n"
          ]
        },
        {
          "output_type": "execute_result",
          "data": {
            "text/plain": [
              "[('Hermione Granger', 'stud101', '0712345678', 'HG'),\n",
              " ('Draco Malfo', 'stud102', '0723456781', 'DM'),\n",
              " ('Jayden Wamashati', 'stud103', '0734567812', 'JW'),\n",
              " ('Ron Weasley', 'stud104', '0745678123', 'RW'),\n",
              " ('Dolores Umbridge', 'stud105', '0756781234', 'DU'),\n",
              " ('Hedwig Tonks', 'stud106', '0767812345', 'HT'),\n",
              " ('Chao Chang', 'stud107', '0778123456', 'CC'),\n",
              " ('Curfew Yaeitpm', 'stud108', '0781234567', 'CY'),\n",
              " ('Chaptr Mukenya', 'stud109', '0722345678', 'CM'),\n",
              " ('Natalie Mpema', 'stud110', '0733456781', 'NM'),\n",
              " ('Crew Nundi', 'stud111', '0744567812', 'CN'),\n",
              " ('Bandi Kagunda', 'stud112', '0755678123', 'BK'),\n",
              " ('Testimony Omolo', 'stud113', '0766456781', 'TO'),\n",
              " ('Career Mpya', 'stud114', '0741367812', 'CD'),\n",
              " ('Deamon Anduro', 'stud115', '0744421123', 'DA')]"
            ],
            "text/html": [
              "<table>\n",
              "    <thead>\n",
              "        <tr>\n",
              "            <th>stud_name</th>\n",
              "            <th>stud_ID</th>\n",
              "            <th>phone_number</th>\n",
              "            <th>stud_email</th>\n",
              "        </tr>\n",
              "    </thead>\n",
              "    <tbody>\n",
              "        <tr>\n",
              "            <td>Hermione Granger</td>\n",
              "            <td>stud101</td>\n",
              "            <td>0712345678</td>\n",
              "            <td>HG</td>\n",
              "        </tr>\n",
              "        <tr>\n",
              "            <td>Draco Malfo</td>\n",
              "            <td>stud102</td>\n",
              "            <td>0723456781</td>\n",
              "            <td>DM</td>\n",
              "        </tr>\n",
              "        <tr>\n",
              "            <td>Jayden Wamashati</td>\n",
              "            <td>stud103</td>\n",
              "            <td>0734567812</td>\n",
              "            <td>JW</td>\n",
              "        </tr>\n",
              "        <tr>\n",
              "            <td>Ron Weasley</td>\n",
              "            <td>stud104</td>\n",
              "            <td>0745678123</td>\n",
              "            <td>RW</td>\n",
              "        </tr>\n",
              "        <tr>\n",
              "            <td>Dolores Umbridge</td>\n",
              "            <td>stud105</td>\n",
              "            <td>0756781234</td>\n",
              "            <td>DU</td>\n",
              "        </tr>\n",
              "        <tr>\n",
              "            <td>Hedwig Tonks</td>\n",
              "            <td>stud106</td>\n",
              "            <td>0767812345</td>\n",
              "            <td>HT</td>\n",
              "        </tr>\n",
              "        <tr>\n",
              "            <td>Chao Chang</td>\n",
              "            <td>stud107</td>\n",
              "            <td>0778123456</td>\n",
              "            <td>CC</td>\n",
              "        </tr>\n",
              "        <tr>\n",
              "            <td>Curfew Yaeitpm</td>\n",
              "            <td>stud108</td>\n",
              "            <td>0781234567</td>\n",
              "            <td>CY</td>\n",
              "        </tr>\n",
              "        <tr>\n",
              "            <td>Chaptr Mukenya</td>\n",
              "            <td>stud109</td>\n",
              "            <td>0722345678</td>\n",
              "            <td>CM</td>\n",
              "        </tr>\n",
              "        <tr>\n",
              "            <td>Natalie Mpema</td>\n",
              "            <td>stud110</td>\n",
              "            <td>0733456781</td>\n",
              "            <td>NM</td>\n",
              "        </tr>\n",
              "        <tr>\n",
              "            <td>Crew Nundi</td>\n",
              "            <td>stud111</td>\n",
              "            <td>0744567812</td>\n",
              "            <td>CN</td>\n",
              "        </tr>\n",
              "        <tr>\n",
              "            <td>Bandi Kagunda</td>\n",
              "            <td>stud112</td>\n",
              "            <td>0755678123</td>\n",
              "            <td>BK</td>\n",
              "        </tr>\n",
              "        <tr>\n",
              "            <td>Testimony Omolo</td>\n",
              "            <td>stud113</td>\n",
              "            <td>0766456781</td>\n",
              "            <td>TO</td>\n",
              "        </tr>\n",
              "        <tr>\n",
              "            <td>Career Mpya</td>\n",
              "            <td>stud114</td>\n",
              "            <td>0741367812</td>\n",
              "            <td>CD</td>\n",
              "        </tr>\n",
              "        <tr>\n",
              "            <td>Deamon Anduro</td>\n",
              "            <td>stud115</td>\n",
              "            <td>0744421123</td>\n",
              "            <td>DA</td>\n",
              "        </tr>\n",
              "    </tbody>\n",
              "</table>"
            ]
          },
          "metadata": {},
          "execution_count": 65
        }
      ]
    },
    {
      "cell_type": "markdown",
      "source": [
        "Create a table with all the details from contacts to school and financial details (full_stud_details)"
      ],
      "metadata": {
        "id": "yAtITsIY25IJ"
      }
    },
    {
      "cell_type": "code",
      "source": [
        "%%sql CREATE TABLE full_stud_details AS\n",
        "select\n",
        "from contact_details as cd\n",
        "left join school_details as sd on cd.stud_email = sd.stud_email\n",
        "left join financial_details as fd ON sd.stud_ID = fd.stud_ID"
      ],
      "metadata": {
        "id": "Jo03DoAc26dP",
        "colab": {
          "base_uri": "https://localhost:8080/"
        },
        "outputId": "3bc92cf1-84a9-473a-95b9-01dd4c9cef08"
      },
      "execution_count": null,
      "outputs": [
        {
          "output_type": "stream",
          "name": "stdout",
          "text": [
            " * sqlite:///stud_db;\n",
            "Done.\n"
          ]
        },
        {
          "output_type": "execute_result",
          "data": {
            "text/plain": [
              "[]"
            ]
          },
          "metadata": {},
          "execution_count": 25
        }
      ]
    },
    {
      "cell_type": "code",
      "source": [
        "%%sql select * from full_stud_details\n",
        "limit 2\n"
      ],
      "metadata": {
        "colab": {
          "base_uri": "https://localhost:8080/",
          "height": 169
        },
        "id": "twOmAHjrAXX7",
        "outputId": "403da2f6-9d06-4170-cf06-c23951ad49ca"
      },
      "execution_count": null,
      "outputs": [
        {
          "output_type": "stream",
          "name": "stdout",
          "text": [
            " * sqlite:///stud_db;\n",
            "Done.\n"
          ]
        },
        {
          "output_type": "execute_result",
          "data": {
            "text/plain": [
              "[('HG', '0712345678', 'Darius Young', 'Father', '0782382383', 'stud101', 'Nakuru', 'Nairobi', 'In school', 'HG', 'stud101', 'Hermione Granger', 25000, 25000),\n",
              " ('DM', '0723456781', 'Lucy Nderitu', 'Mother', '0723238983', 'stud102', 'Nairobi', 'Nakuru', 'In school', 'DM', 'stud102', 'Draco Malfo', 25000, 19000)]"
            ],
            "text/html": [
              "<table>\n",
              "    <thead>\n",
              "        <tr>\n",
              "            <th>stud_email</th>\n",
              "            <th>phone_number</th>\n",
              "            <th>next_of_kin_name</th>\n",
              "            <th>next_of_kin_relation</th>\n",
              "            <th>next_of_kin_contacts</th>\n",
              "            <th>stud_ID</th>\n",
              "            <th>current_home_county</th>\n",
              "            <th>secondary_school_county</th>\n",
              "            <th>residence</th>\n",
              "            <th>stud_email:1</th>\n",
              "            <th>stud_ID:1</th>\n",
              "            <th>stud_name</th>\n",
              "            <th>sem_fee</th>\n",
              "            <th>fee_paid</th>\n",
              "        </tr>\n",
              "    </thead>\n",
              "    <tbody>\n",
              "        <tr>\n",
              "            <td>HG</td>\n",
              "            <td>0712345678</td>\n",
              "            <td>Darius Young</td>\n",
              "            <td>Father</td>\n",
              "            <td>0782382383</td>\n",
              "            <td>stud101</td>\n",
              "            <td>Nakuru</td>\n",
              "            <td>Nairobi</td>\n",
              "            <td>In school</td>\n",
              "            <td>HG</td>\n",
              "            <td>stud101</td>\n",
              "            <td>Hermione Granger</td>\n",
              "            <td>25000</td>\n",
              "            <td>25000</td>\n",
              "        </tr>\n",
              "        <tr>\n",
              "            <td>DM</td>\n",
              "            <td>0723456781</td>\n",
              "            <td>Lucy Nderitu</td>\n",
              "            <td>Mother</td>\n",
              "            <td>0723238983</td>\n",
              "            <td>stud102</td>\n",
              "            <td>Nairobi</td>\n",
              "            <td>Nakuru</td>\n",
              "            <td>In school</td>\n",
              "            <td>DM</td>\n",
              "            <td>stud102</td>\n",
              "            <td>Draco Malfo</td>\n",
              "            <td>25000</td>\n",
              "            <td>19000</td>\n",
              "        </tr>\n",
              "    </tbody>\n",
              "</table>"
            ]
          },
          "metadata": {},
          "execution_count": 26
        }
      ]
    },
    {
      "cell_type": "markdown",
      "source": [
        "Add student names on any empty row of stud_name in financial_details"
      ],
      "metadata": {
        "id": "JROr7COzHK1q"
      }
    },
    {
      "cell_type": "code",
      "source": [
        "%%sql INSERT INTO financial_details (stud_name) values\n",
        "(\"Bella Ciao\")"
      ],
      "metadata": {
        "colab": {
          "base_uri": "https://localhost:8080/"
        },
        "id": "bnp4eaIVHMIn",
        "outputId": "3df0ccf6-ac84-44a5-e20d-1e58e7c2b98d"
      },
      "execution_count": null,
      "outputs": [
        {
          "output_type": "stream",
          "name": "stdout",
          "text": [
            " * sqlite:///stud_db;\n",
            "1 rows affected.\n"
          ]
        },
        {
          "output_type": "execute_result",
          "data": {
            "text/plain": [
              "[]"
            ]
          },
          "metadata": {},
          "execution_count": 29
        }
      ]
    },
    {
      "cell_type": "markdown",
      "source": [
        "Get the total sum of fees paid so far and the total current deficit (total_fee_balance)"
      ],
      "metadata": {
        "id": "S02pv1c9Q9ip"
      }
    },
    {
      "cell_type": "code",
      "source": [
        "%%sql\n",
        "SELECT sum(fee_paid) AS total_fee_balance, sum(sem_fee - fee_paid) AS deficit\n",
        "from financial_details"
      ],
      "metadata": {
        "colab": {
          "base_uri": "https://localhost:8080/",
          "height": 94
        },
        "id": "pAwCI2pzRCXK",
        "outputId": "779c53de-79b7-40cf-a22f-8402843257d8"
      },
      "execution_count": null,
      "outputs": [
        {
          "output_type": "stream",
          "name": "stdout",
          "text": [
            " * sqlite:///stud_db;\n",
            "Done.\n"
          ]
        },
        {
          "output_type": "execute_result",
          "data": {
            "text/plain": [
              "[(339600, 19330)]"
            ],
            "text/html": [
              "<table>\n",
              "    <thead>\n",
              "        <tr>\n",
              "            <th>total_fee_balance</th>\n",
              "            <th>deficit</th>\n",
              "        </tr>\n",
              "    </thead>\n",
              "    <tbody>\n",
              "        <tr>\n",
              "            <td>339600</td>\n",
              "            <td>19330</td>\n",
              "        </tr>\n",
              "    </tbody>\n",
              "</table>"
            ]
          },
          "metadata": {},
          "execution_count": 37
        }
      ]
    },
    {
      "cell_type": "markdown",
      "source": [
        "Get the count of students who share a current home county i.e., Say Nairobi, get the number of students who’s current_home_county is Nairobi, and so on for all available counties (home_county_count)"
      ],
      "metadata": {
        "id": "mOTM25XxUYdI"
      }
    },
    {
      "cell_type": "code",
      "source": [
        "%%sql SELECT count(stud_ID) as No_of_stu, current_home_county\n",
        "from school_details\n",
        "GROUP BY current_home_county\n",
        "order by 1 asc;"
      ],
      "metadata": {
        "colab": {
          "base_uri": "https://localhost:8080/",
          "height": 216
        },
        "id": "BG3xtdtRWsNm",
        "outputId": "2fcdf0e6-f19b-452d-d7d9-9bb6cfe06cca"
      },
      "execution_count": null,
      "outputs": [
        {
          "output_type": "stream",
          "name": "stdout",
          "text": [
            " * sqlite:///stud_db;\n",
            "Done.\n"
          ]
        },
        {
          "output_type": "execute_result",
          "data": {
            "text/plain": [
              "[(1, 'Nyamira'),\n",
              " (2, 'Kiambu'),\n",
              " (2, 'Kisumu'),\n",
              " (2, 'Nairobi'),\n",
              " (2, 'Samburu'),\n",
              " (3, 'Kericho'),\n",
              " (3, 'Nakuru')]"
            ],
            "text/html": [
              "<table>\n",
              "    <thead>\n",
              "        <tr>\n",
              "            <th>No_of_stu</th>\n",
              "            <th>current_home_county</th>\n",
              "        </tr>\n",
              "    </thead>\n",
              "    <tbody>\n",
              "        <tr>\n",
              "            <td>1</td>\n",
              "            <td>Nyamira</td>\n",
              "        </tr>\n",
              "        <tr>\n",
              "            <td>2</td>\n",
              "            <td>Kiambu</td>\n",
              "        </tr>\n",
              "        <tr>\n",
              "            <td>2</td>\n",
              "            <td>Kisumu</td>\n",
              "        </tr>\n",
              "        <tr>\n",
              "            <td>2</td>\n",
              "            <td>Nairobi</td>\n",
              "        </tr>\n",
              "        <tr>\n",
              "            <td>2</td>\n",
              "            <td>Samburu</td>\n",
              "        </tr>\n",
              "        <tr>\n",
              "            <td>3</td>\n",
              "            <td>Kericho</td>\n",
              "        </tr>\n",
              "        <tr>\n",
              "            <td>3</td>\n",
              "            <td>Nakuru</td>\n",
              "        </tr>\n",
              "    </tbody>\n",
              "</table>"
            ]
          },
          "metadata": {},
          "execution_count": 47
        }
      ]
    },
    {
      "cell_type": "markdown",
      "source": [
        "Get the count of Male and/or Female students from each secondary_school_county (secondary_school_count). The table should contain a column for male student count and female student count for each county."
      ],
      "metadata": {
        "id": "UXsWpymkX0rN"
      }
    },
    {
      "cell_type": "code",
      "source": [
        "%%sql select sum(gender=\"Male\") as Male_no , sum(gender=\"Female\") as Female_no,\n",
        "sd.secondary_school_county\n",
        "from personal_details as pd\n",
        "join school_details as sd on pd.stud_ID = sd.stud_ID\n",
        "group by secondary_school_county\n"
      ],
      "metadata": {
        "colab": {
          "base_uri": "https://localhost:8080/",
          "height": 175
        },
        "id": "smLRT29HbXD4",
        "outputId": "3ef1e081-c34e-4a0e-b0c1-37146a382e6b"
      },
      "execution_count": null,
      "outputs": [
        {
          "output_type": "stream",
          "name": "stdout",
          "text": [
            " * sqlite:///stud_db;\n",
            "Done.\n"
          ]
        },
        {
          "output_type": "execute_result",
          "data": {
            "text/plain": [
              "[(1, 3, 'Mombasa'),\n",
              " (4, 2, 'Nairobi'),\n",
              " (1, 2, 'Nakuru'),\n",
              " (1, 0, 'Taita Taveta'),\n",
              " (1, 0, 'Turkana')]"
            ],
            "text/html": [
              "<table>\n",
              "    <thead>\n",
              "        <tr>\n",
              "            <th>Male_no</th>\n",
              "            <th>Female_no</th>\n",
              "            <th>secondary_school_county</th>\n",
              "        </tr>\n",
              "    </thead>\n",
              "    <tbody>\n",
              "        <tr>\n",
              "            <td>1</td>\n",
              "            <td>3</td>\n",
              "            <td>Mombasa</td>\n",
              "        </tr>\n",
              "        <tr>\n",
              "            <td>4</td>\n",
              "            <td>2</td>\n",
              "            <td>Nairobi</td>\n",
              "        </tr>\n",
              "        <tr>\n",
              "            <td>1</td>\n",
              "            <td>2</td>\n",
              "            <td>Nakuru</td>\n",
              "        </tr>\n",
              "        <tr>\n",
              "            <td>1</td>\n",
              "            <td>0</td>\n",
              "            <td>Taita Taveta</td>\n",
              "        </tr>\n",
              "        <tr>\n",
              "            <td>1</td>\n",
              "            <td>0</td>\n",
              "            <td>Turkana</td>\n",
              "        </tr>\n",
              "    </tbody>\n",
              "</table>"
            ]
          },
          "metadata": {},
          "execution_count": 88
        }
      ]
    },
    {
      "cell_type": "markdown",
      "source": [
        " Get the percentage of students who set their next_of_kin as Mother vs those that set it as Father1. (kin_percentage)"
      ],
      "metadata": {
        "id": "miKxF7_vevOE"
      }
    },
    {
      "cell_type": "code",
      "source": [
        "%%sql select count(next_of_kin_relation),\n",
        "next_of_kin_relation\n",
        "from contact_details\n",
        "group by next_of_kin_relation"
      ],
      "metadata": {
        "colab": {
          "base_uri": "https://localhost:8080/",
          "height": 114
        },
        "id": "jeLmBbVpe9Ys",
        "outputId": "a6e4fa57-f9eb-429b-901c-8f4d72220104"
      },
      "execution_count": null,
      "outputs": [
        {
          "output_type": "stream",
          "name": "stdout",
          "text": [
            " * sqlite:///stud_db;\n",
            "Done.\n"
          ]
        },
        {
          "output_type": "execute_result",
          "data": {
            "text/plain": [
              "[(8, 'Father'), (7, 'Mother')]"
            ],
            "text/html": [
              "<table>\n",
              "    <thead>\n",
              "        <tr>\n",
              "            <th>count(next_of_kin_relation)</th>\n",
              "            <th>next_of_kin_relation</th>\n",
              "        </tr>\n",
              "    </thead>\n",
              "    <tbody>\n",
              "        <tr>\n",
              "            <td>8</td>\n",
              "            <td>Father</td>\n",
              "        </tr>\n",
              "        <tr>\n",
              "            <td>7</td>\n",
              "            <td>Mother</td>\n",
              "        </tr>\n",
              "    </tbody>\n",
              "</table>"
            ]
          },
          "metadata": {},
          "execution_count": 102
        }
      ]
    },
    {
      "cell_type": "markdown",
      "source": [
        " On the financial_details table add a column, fee_cleared, that has True if student has cleared current fee and False if not (financial_details_view)"
      ],
      "metadata": {
        "id": "REgZ_6PGerP3"
      }
    },
    {
      "cell_type": "code",
      "source": [
        "%%sql ALTER TABLE financial_details\n",
        "ADD fee_cleared boolean\n"
      ],
      "metadata": {
        "colab": {
          "base_uri": "https://localhost:8080/"
        },
        "id": "banoatzdhPTj",
        "outputId": "79a44e72-d91d-4fac-d288-194f3f65d6e3"
      },
      "execution_count": 16,
      "outputs": [
        {
          "output_type": "stream",
          "name": "stdout",
          "text": [
            " * sqlite:///stud_db;\n",
            "Done.\n"
          ]
        },
        {
          "output_type": "execute_result",
          "data": {
            "text/plain": [
              "[]"
            ]
          },
          "metadata": {},
          "execution_count": 16
        }
      ]
    },
    {
      "cell_type": "code",
      "source": [
        "%%sql UPDATE financial_details\n",
        "SET fee_cleared = CASE When sem_fee <= fee_paid Then 'True'\n",
        "when sem_fee > fee_paid Then 'False'\n",
        "End;"
      ],
      "metadata": {
        "colab": {
          "base_uri": "https://localhost:8080/"
        },
        "id": "nqQ0CvW_iR8h",
        "outputId": "862b0bec-3c57-4169-9500-190eff751569"
      },
      "execution_count": 22,
      "outputs": [
        {
          "output_type": "stream",
          "name": "stdout",
          "text": [
            " * sqlite:///stud_db;\n",
            "15 rows affected.\n"
          ]
        },
        {
          "output_type": "execute_result",
          "data": {
            "text/plain": [
              "[]"
            ]
          },
          "metadata": {},
          "execution_count": 22
        }
      ]
    },
    {
      "cell_type": "code",
      "source": [
        "%%sql SELECT *\n",
        "FROM financial_details\n",
        "LIMIT 3;"
      ],
      "metadata": {
        "colab": {
          "base_uri": "https://localhost:8080/",
          "height": 134
        },
        "id": "e8C9f5QUnPfZ",
        "outputId": "939ad947-60d4-40fb-e7a9-c965e0ee7c06"
      },
      "execution_count": 24,
      "outputs": [
        {
          "output_type": "stream",
          "name": "stdout",
          "text": [
            " * sqlite:///stud_db;\n",
            "Done.\n"
          ]
        },
        {
          "output_type": "execute_result",
          "data": {
            "text/plain": [
              "[('stud101', 'Hermione Granger', 25000, 25000, 'True'),\n",
              " ('stud102', 'Draco Malfo', 25000, 19000, 'False'),\n",
              " ('stud103', 'Jayden Wamashati', 21900, 20000, 'False')]"
            ],
            "text/html": [
              "<table>\n",
              "    <thead>\n",
              "        <tr>\n",
              "            <th>stud_ID</th>\n",
              "            <th>stud_name</th>\n",
              "            <th>sem_fee</th>\n",
              "            <th>fee_paid</th>\n",
              "            <th>fee_cleared</th>\n",
              "        </tr>\n",
              "    </thead>\n",
              "    <tbody>\n",
              "        <tr>\n",
              "            <td>stud101</td>\n",
              "            <td>Hermione Granger</td>\n",
              "            <td>25000</td>\n",
              "            <td>25000</td>\n",
              "            <td>True</td>\n",
              "        </tr>\n",
              "        <tr>\n",
              "            <td>stud102</td>\n",
              "            <td>Draco Malfo</td>\n",
              "            <td>25000</td>\n",
              "            <td>19000</td>\n",
              "            <td>False</td>\n",
              "        </tr>\n",
              "        <tr>\n",
              "            <td>stud103</td>\n",
              "            <td>Jayden Wamashati</td>\n",
              "            <td>21900</td>\n",
              "            <td>20000</td>\n",
              "            <td>False</td>\n",
              "        </tr>\n",
              "    </tbody>\n",
              "</table>"
            ]
          },
          "metadata": {},
          "execution_count": 24
        }
      ]
    },
    {
      "cell_type": "markdown",
      "source": [
        "Get the national ID and name of all students who have cleared their fees (fee_cleared)"
      ],
      "metadata": {
        "id": "ObsFoJlinmoU"
      }
    },
    {
      "cell_type": "code",
      "source": [
        "%%sql WITH fee AS (SELECT stud_name, stud_ID\n",
        "FROM financial_details as fd\n",
        "where fee_cleared = 'True')\n",
        "\n",
        "SELECT f.stud_name, pd.national_ID\n",
        "from fee as f\n",
        "JOIN personal_details as pd ON f.stud_ID = pd.stud_ID"
      ],
      "metadata": {
        "colab": {
          "base_uri": "https://localhost:8080/",
          "height": 216
        },
        "id": "MltKojcxnvpI",
        "outputId": "457facc1-ffaf-4256-dad1-c0fe81dd5838"
      },
      "execution_count": 55,
      "outputs": [
        {
          "output_type": "stream",
          "name": "stdout",
          "text": [
            " * sqlite:///stud_db;\n",
            "Done.\n"
          ]
        },
        {
          "output_type": "execute_result",
          "data": {
            "text/plain": [
              "[('Hermione Granger', 344534),\n",
              " ('Ron Weasley', 377302),\n",
              " ('Hedwig Tonks', 307243),\n",
              " ('Natalie Mpema', 339152),\n",
              " ('Crew Nundi', 339746),\n",
              " ('Career Mpya', 321746),\n",
              " ('Deamon Anduro', 390234)]"
            ],
            "text/html": [
              "<table>\n",
              "    <thead>\n",
              "        <tr>\n",
              "            <th>stud_name</th>\n",
              "            <th>national_ID</th>\n",
              "        </tr>\n",
              "    </thead>\n",
              "    <tbody>\n",
              "        <tr>\n",
              "            <td>Hermione Granger</td>\n",
              "            <td>344534</td>\n",
              "        </tr>\n",
              "        <tr>\n",
              "            <td>Ron Weasley</td>\n",
              "            <td>377302</td>\n",
              "        </tr>\n",
              "        <tr>\n",
              "            <td>Hedwig Tonks</td>\n",
              "            <td>307243</td>\n",
              "        </tr>\n",
              "        <tr>\n",
              "            <td>Natalie Mpema</td>\n",
              "            <td>339152</td>\n",
              "        </tr>\n",
              "        <tr>\n",
              "            <td>Crew Nundi</td>\n",
              "            <td>339746</td>\n",
              "        </tr>\n",
              "        <tr>\n",
              "            <td>Career Mpya</td>\n",
              "            <td>321746</td>\n",
              "        </tr>\n",
              "        <tr>\n",
              "            <td>Deamon Anduro</td>\n",
              "            <td>390234</td>\n",
              "        </tr>\n",
              "    </tbody>\n",
              "</table>"
            ]
          },
          "metadata": {},
          "execution_count": 55
        }
      ]
    }
  ]
}